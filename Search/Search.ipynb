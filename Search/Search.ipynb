{
 "cells": [
  {
   "cell_type": "markdown",
   "metadata": {},
   "source": [
    "# Inteligência Artificial - Agentes de Resoluções de Problemas"
   ]
  },
  {
   "cell_type": "code",
   "execution_count": 1,
   "metadata": {
    "collapsed": true
   },
   "outputs": [],
   "source": [
    "import pandas as pd\n",
    "import random\n",
    "\n",
    "Cidades = [\"Oradea\", \"Zerind\", \"Arad\", \"Timisoara\", \"Lugoj\", \"Mehadia\", \"Drobeta\", \"Sibiu\", \"RimnicuVilcea\", \"Craiova\", \"Fagaras\", \"Pitesti\", \"Giurgiu\", \"Bucharest\", \"Urziceni\", \"Neamt\", \"Iasi\", \"Vaslui\", \"Hirsova\", \"Eforie\"]\n",
    "enumCidades = pd.Series(Cidades)"
   ]
  },
  {
   "cell_type": "code",
   "execution_count": 2,
   "metadata": {
    "collapsed": true
   },
   "outputs": [],
   "source": [
    "class State:\n",
    "    def __init__(self, cidade):\n",
    "        self.emCidade = cidade"
   ]
  },
  {
   "cell_type": "code",
   "execution_count": 3,
   "metadata": {
    "collapsed": true
   },
   "outputs": [],
   "source": [
    "class Node:\n",
    "    def __init__(self, pai, estado, custo=0):\n",
    "        self.estado = estado\n",
    "        self.pai = pai\n",
    "        self.Actions = []\n",
    "        self.custoDeCaminho = custo\n",
    "    \n",
    "    def getActions(self):\n",
    "        self.Actions = Grafo[self.estado]\n",
    "        random.shuffle(self.Actions)\n",
    "        \n",
    "    def __repr__(self) :\n",
    "        return 'com custo de caminho {}'.format(self.custoDeCaminho)\n",
    "    \n",
    "    def __lt__(self, other):\n",
    "        return (self.custoDeCaminho < other.custoDeCaminho)\n",
    "\n",
    "    def __eq__(self, other):\n",
    "        return (self.custoDeCaminho == other.custoDeCaminho)\n",
    "\n",
    "    def __gt__(self, other):\n",
    "        return(self.custoDeCaminho > other.custoDeCaminho)\n",
    "\n",
    "    def __le__(self, other):\n",
    "        return(self.custoDeCaminho <= other.custoDeCaminho)\n",
    "    \n",
    "    def __cmp__(self, other):\n",
    "        if self.custoDeCaminho < other.custoDeCaminho:\n",
    "            return -1\n",
    "        elif self.custoDeCaminho > other.custoDeCaminho:\n",
    "            return 1\n",
    "        else:\n",
    "            return 0\n"
   ]
  },
  {
   "cell_type": "code",
   "execution_count": 4,
   "metadata": {
    "collapsed": true
   },
   "outputs": [],
   "source": [
    "class Action:\n",
    "    def __init__(self, para, custo):\n",
    "        self.paraCidade = para\n",
    "        self.custo = custo"
   ]
  },
  {
   "cell_type": "code",
   "execution_count": 5,
   "metadata": {},
   "outputs": [
    {
     "data": {
      "text/plain": [
       "0            Oradea\n",
       "1            Zerind\n",
       "2              Arad\n",
       "3         Timisoara\n",
       "4             Lugoj\n",
       "5           Mehadia\n",
       "6           Drobeta\n",
       "7             Sibiu\n",
       "8     RimnicuVilcea\n",
       "9           Craiova\n",
       "10          Fagaras\n",
       "11          Pitesti\n",
       "12          Giurgiu\n",
       "13        Bucharest\n",
       "14         Urziceni\n",
       "15            Neamt\n",
       "16             Iasi\n",
       "17           Vaslui\n",
       "18          Hirsova\n",
       "19           Eforie\n",
       "dtype: object"
      ]
     },
     "execution_count": 5,
     "metadata": {},
     "output_type": "execute_result"
    }
   ],
   "source": [
    "enumCidades"
   ]
  },
  {
   "cell_type": "markdown",
   "metadata": {},
   "source": [
    "Setar o grafo como uma lista de adjacência do tipo ação"
   ]
  },
  {
   "cell_type": "code",
   "execution_count": 6,
   "metadata": {
    "collapsed": true
   },
   "outputs": [],
   "source": [
    "Grafo = []\n",
    "\n",
    "Oradea = []\n",
    "Oradea.append(Action(1, 71))\n",
    "Oradea.append(Action(7, 151))\n",
    "Grafo.append(Oradea)\n",
    "\n",
    "Zerind = []\n",
    "Zerind.append(Action(1, 71))\n",
    "Zerind.append(Action(2, 75))\n",
    "Grafo.append(Zerind)\n",
    "\n",
    "Arad = []\n",
    "Arad.append(Action(1, 75))\n",
    "Arad.append(Action(3, 118))\n",
    "Arad.append(Action(7, 140))\n",
    "Grafo.append(Arad)\n",
    "\n",
    "Timisoara = []\n",
    "Timisoara.append(Action(2, 118))\n",
    "Timisoara.append(Action(4, 111))\n",
    "Grafo.append(Timisoara)\n",
    "\n",
    "Lugoj = []\n",
    "Lugoj.append(Action(3, 111))\n",
    "Lugoj.append(Action(5, 70))\n",
    "Grafo.append(Lugoj)\n",
    "\n",
    "Mehadia = []\n",
    "Mehadia.append(Action(4, 70))\n",
    "Mehadia.append(Action(6, 75))\n",
    "Grafo.append(Mehadia)\n",
    "\n",
    "Drobeta = []\n",
    "Drobeta.append(Action(5, 75))\n",
    "Drobeta.append(Action(9, 120))\n",
    "Grafo.append(Drobeta)\n",
    "\n",
    "Sibiu = []\n",
    "Sibiu.append(Action(1, 151))\n",
    "Sibiu.append(Action(2, 140))\n",
    "Sibiu.append(Action(10, 99))\n",
    "Grafo.append(Sibiu)\n",
    "\n",
    "RimnicuVilcea = []\n",
    "RimnicuVilcea.append(Action(7, 99))\n",
    "RimnicuVilcea.append(Action(9, 146))\n",
    "RimnicuVilcea.append(Action(11, 97))\n",
    "Grafo.append(RimnicuVilcea)\n",
    "\n",
    "Craiova = []\n",
    "Craiova.append(Action(6, 120))\n",
    "Craiova.append(Action(8, 146))\n",
    "Craiova.append(Action(11, 138))\n",
    "Grafo.append(Craiova)\n",
    "\n",
    "Fagaras = []\n",
    "Fagaras.append(Action(7, 99))\n",
    "Fagaras.append(Action(13, 211))\n",
    "Grafo.append(Fagaras)\n",
    "\n",
    "Pitesti = []\n",
    "Pitesti.append(Action(8, 97))\n",
    "Pitesti.append(Action(9, 138))\n",
    "Pitesti.append(Action(13, 101))\n",
    "Grafo.append(Pitesti)\n",
    "\n",
    "Giurgiu = []\n",
    "Giurgiu.append(Action(13, 90))\n",
    "Grafo.append(Giurgiu)\n",
    "\n",
    "Bucharest = []\n",
    "Bucharest.append(Action(10, 211))\n",
    "Bucharest.append(Action(11, 101))\n",
    "Bucharest.append(Action(12, 90))\n",
    "Bucharest.append(Action(14, 85))\n",
    "Grafo.append(Bucharest)\n",
    "\n",
    "Urziceni = []\n",
    "Urziceni.append(Action(13, 85))\n",
    "Urziceni.append(Action(17, 142))\n",
    "Urziceni.append(Action(18, 98))\n",
    "Grafo.append(Urziceni)\n",
    "\n",
    "Neamt = []\n",
    "Neamt.append(Action(16, 87))\n",
    "Grafo.append(Neamt)\n",
    "\n",
    "Iasi = []\n",
    "Iasi.append(Action(15, 87))\n",
    "Iasi.append(Action(17, 92))\n",
    "Grafo.append(Iasi)\n",
    "\n",
    "\n",
    "Vaslui = []\n",
    "Vaslui.append(Action(14, 142))\n",
    "Vaslui.append(Action(16, 92))\n",
    "Grafo.append(Vaslui)\n",
    "\n",
    "Hirsova = []\n",
    "Hirsova.append(Action(14, 98))\n",
    "Hirsova.append(Action(19, 86))\n",
    "Grafo.append(Hirsova)\n",
    "\n",
    "Eforie = []\n",
    "Eforie.append(Action(18, 86))\n",
    "Grafo.append(Eforie)"
   ]
  },
  {
   "cell_type": "markdown",
   "metadata": {},
   "source": [
    "Algoritmo de Busca em Largura, recebe a cidade de inicio e a cidade objetivo do problema"
   ]
  },
  {
   "cell_type": "code",
   "execution_count": 7,
   "metadata": {
    "collapsed": true
   },
   "outputs": [],
   "source": [
    "def BFS(inicio, objetivo):\n",
    "    no = Node(None,inicio)\n",
    "    \n",
    "    if no.estado == objetivo:\n",
    "        return no\n",
    "    \n",
    "    borda = []\n",
    "    borda.append(no)\n",
    "    explorados = []\n",
    "    \n",
    "    while(not (borda == [])):\n",
    "        \n",
    "        novoNo = borda.pop(0)\n",
    "        novoNo.getActions()\n",
    "        \n",
    "        explorados.append(novoNo.estado)\n",
    "        \n",
    "        for acao in novoNo.Actions:\n",
    "            filho = Node(novoNo, acao.paraCidade, (novoNo.custoDeCaminho + acao.custo))\n",
    "            if filho.estado not in explorados:\n",
    "                if filho.estado == objetivo:\n",
    "                    return filho\n",
    "                else:\n",
    "                    borda.append(filho)        \n",
    "    \n",
    "    if( (borda == []) ):\n",
    "            print(\"Falha ao buscar o objetivo\")"
   ]
  },
  {
   "cell_type": "code",
   "execution_count": 8,
   "metadata": {},
   "outputs": [],
   "source": [
    "%time resultado = BFS(2, 13)"
   ]
  },
  {
   "cell_type": "code",
   "execution_count": 9,
   "metadata": {},
   "outputs": [],
   "source": [
    "resultado"
   ]
  },
  {
   "cell_type": "markdown",
   "metadata": {},
   "source": [
    "Algoritmo de Busca em Profundidade, recebe a cidade de inicio e a cidade objetivo do problema"
   ]
  },
  {
   "cell_type": "code",
   "execution_count": 10,
   "metadata": {
    "collapsed": true
   },
   "outputs": [],
   "source": [
    "def DFS(inicio, objetivo):\n",
    "    no = Node(None,inicio)\n",
    "    \n",
    "    if no.estado == objetivo:\n",
    "        return no\n",
    "    \n",
    "    borda = []\n",
    "    borda.append(no)\n",
    "    explorados = []\n",
    "    \n",
    "    while(not (borda == [])):\n",
    "        \n",
    "        novoNo = borda.pop(len(borda)-1)\n",
    "        novoNo.getActions()\n",
    "        \n",
    "        explorados.append(novoNo.estado)\n",
    "        \n",
    "        for acao in novoNo.Actions:\n",
    "            filho = Node(novoNo, acao.paraCidade, (novoNo.custoDeCaminho + acao.custo))\n",
    "            if filho.estado not in explorados:\n",
    "                if filho.estado == objetivo:\n",
    "                    return filho\n",
    "                borda.append(filho)\n",
    "    \n",
    "    if( (borda == []) ):\n",
    "            print(\"Falha ao buscar o objetivo\")"
   ]
  },
  {
   "cell_type": "code",
   "execution_count": 11,
   "metadata": {
    "collapsed": true
   },
   "outputs": [],
   "source": [
    "%time resultado2 = DFS(2,13)"
   ]
  },
  {
   "cell_type": "code",
   "execution_count": 12,
   "metadata": {},
   "outputs": [],
   "source": [
    "resultado2"
   ]
  },
  {
   "cell_type": "markdown",
   "metadata": {},
   "source": [
    "Algoritmo de Busca de Custo Uniforme, recebe a cidade de inicio e a cidade objetivo do problema"
   ]
  },
  {
   "cell_type": "code",
   "execution_count": 13,
   "metadata": {
    "collapsed": true
   },
   "outputs": [],
   "source": [
    "def BCU(inicio, objetivo):\n",
    "    no = Node(None,inicio)\n",
    "    \n",
    "    borda = []\n",
    "    borda.append(no)\n",
    "    explorados = []\n",
    "    \n",
    "    while(not (borda == [])):\n",
    "        \n",
    "        borda.sort()\n",
    "        novoNo = borda.pop(0)\n",
    "        novoNo.getActions()\n",
    "        explorados.append(novoNo.estado)\n",
    "    \n",
    "        if novoNo.estado == objetivo:\n",
    "            return novoNo        \n",
    "        \n",
    "        for acao in novoNo.Actions:\n",
    "            filho = Node(novoNo, acao.paraCidade, (novoNo.custoDeCaminho + acao.custo))\n",
    "            if filho.estado not in explorados:\n",
    "                borda.append(filho)\n",
    "            else:\n",
    "                for i in range(len(borda)):\n",
    "                    if borda[i].estado == filho.estado:\n",
    "                        if(borda[i].custoDeCaminho > filho.custoDeCaminho):\n",
    "                            borda[i] = filho\n",
    "    \n",
    "    if( (borda == []) ):\n",
    "            print(\"Falha ao buscar o objetivo\")"
   ]
  },
  {
   "cell_type": "code",
   "execution_count": 14,
   "metadata": {
    "collapsed": true
   },
   "outputs": [],
   "source": [
    "%time resultado3 = BCU(2,13)"
   ]
  },
  {
   "cell_type": "code",
   "execution_count": 23,
   "metadata": {},
   "outputs": [
    {
     "data": {
      "text/plain": [
       "com custo de caminho 450"
      ]
     },
     "execution_count": 23,
     "metadata": {},
     "output_type": "execute_result"
    }
   ],
   "source": [
    "resultado3"
   ]
  },
  {
   "cell_type": "code",
   "execution_count": 17,
   "metadata": {
    "collapsed": true
   },
   "outputs": [],
   "source": [
    "def retornaCaminho(no):\n",
    "    retorno = []\n",
    "    while(not (no.custoDeCaminho == 0)):\n",
    "        retorno.append(enumCidades[no.estado])\n",
    "        no = no.pai\n",
    "    retorno.append(enumCidades[no.estado])\n",
    "    retorno.reverse()\n",
    "    print(' -> '.join(retorno))"
   ]
  },
  {
   "cell_type": "code",
   "execution_count": 26,
   "metadata": {},
   "outputs": [
    {
     "name": "stdout",
     "output_type": "stream",
     "text": [
      "Bucharest\n",
      "com custo de caminho 0\n"
     ]
    }
   ],
   "source": [
    "retornaCaminho(resultado3)\n",
    "print(resultado3)"
   ]
  },
  {
   "cell_type": "code",
   "execution_count": 27,
   "metadata": {},
   "outputs": [
    {
     "name": "stdout",
     "output_type": "stream",
     "text": [
      "Bucharest\n",
      "com custo de caminho 0\n"
     ]
    }
   ],
   "source": [
    "retornaCaminho(resultado2)\n",
    "print(resultado2)"
   ]
  },
  {
   "cell_type": "code",
   "execution_count": 28,
   "metadata": {},
   "outputs": [
    {
     "name": "stdout",
     "output_type": "stream",
     "text": [
      "Bucharest\n",
      "com custo de caminho 0\n"
     ]
    }
   ],
   "source": [
    "retornaCaminho(resultado)\n",
    "print(resultado)"
   ]
  },
  {
   "cell_type": "markdown",
   "metadata": {},
   "source": [
    "# Teste de tempo de caminhos"
   ]
  },
  {
   "cell_type": "markdown",
   "metadata": {},
   "source": [
    "## teste 1 Arad a Bucharest"
   ]
  },
  {
   "cell_type": "code",
   "execution_count": 32,
   "metadata": {},
   "outputs": [
    {
     "name": "stdout",
     "output_type": "stream",
     "text": [
      "CPU times: user 0 ns, sys: 0 ns, total: 0 ns\n",
      "Wall time: 370 µs\n",
      "CPU times: user 0 ns, sys: 0 ns, total: 0 ns\n",
      "Wall time: 106 µs\n",
      "CPU times: user 0 ns, sys: 0 ns, total: 0 ns\n",
      "Wall time: 197 µs\n"
     ]
    },
    {
     "data": {
      "text/plain": [
       "com custo de caminho 450"
      ]
     },
     "execution_count": 32,
     "metadata": {},
     "output_type": "execute_result"
    }
   ],
   "source": [
    "%time BFS(2, 13)\n",
    "%time DFS(2, 13)\n",
    "%time BCU(2, 13)"
   ]
  },
  {
   "cell_type": "markdown",
   "metadata": {},
   "source": [
    "## teste 2 Lugoj a Bucharest"
   ]
  },
  {
   "cell_type": "code",
   "execution_count": 33,
   "metadata": {},
   "outputs": [
    {
     "name": "stdout",
     "output_type": "stream",
     "text": [
      "CPU times: user 0 ns, sys: 0 ns, total: 0 ns\n",
      "Wall time: 103 µs\n",
      "CPU times: user 0 ns, sys: 0 ns, total: 0 ns\n",
      "Wall time: 103 µs\n",
      "CPU times: user 0 ns, sys: 0 ns, total: 0 ns\n",
      "Wall time: 145 µs\n"
     ]
    },
    {
     "data": {
      "text/plain": [
       "com custo de caminho 504"
      ]
     },
     "execution_count": 33,
     "metadata": {},
     "output_type": "execute_result"
    }
   ],
   "source": [
    "%time BFS(4, 13)\n",
    "%time DFS(4, 13)\n",
    "%time BCU(4, 13)"
   ]
  },
  {
   "cell_type": "markdown",
   "metadata": {},
   "source": [
    "## teste 3 Zerind a Mehadia"
   ]
  },
  {
   "cell_type": "code",
   "execution_count": 34,
   "metadata": {},
   "outputs": [
    {
     "name": "stdout",
     "output_type": "stream",
     "text": [
      "CPU times: user 0 ns, sys: 0 ns, total: 0 ns\n",
      "Wall time: 138 µs\n",
      "CPU times: user 0 ns, sys: 0 ns, total: 0 ns\n",
      "Wall time: 56 µs\n",
      "CPU times: user 0 ns, sys: 0 ns, total: 0 ns\n",
      "Wall time: 83.2 µs\n"
     ]
    },
    {
     "data": {
      "text/plain": [
       "com custo de caminho 374"
      ]
     },
     "execution_count": 34,
     "metadata": {},
     "output_type": "execute_result"
    }
   ],
   "source": [
    "%time BFS(1, 5)\n",
    "%time DFS(1, 5)\n",
    "%time BCU(1, 5)"
   ]
  },
  {
   "cell_type": "markdown",
   "metadata": {},
   "source": [
    "## teste 4 Oradea a Eforie"
   ]
  },
  {
   "cell_type": "code",
   "execution_count": 35,
   "metadata": {},
   "outputs": [
    {
     "name": "stdout",
     "output_type": "stream",
     "text": [
      "CPU times: user 4 ms, sys: 0 ns, total: 4 ms\n",
      "Wall time: 296 µs\n",
      "CPU times: user 0 ns, sys: 0 ns, total: 0 ns\n",
      "Wall time: 250 µs\n",
      "CPU times: user 4 ms, sys: 0 ns, total: 4 ms\n",
      "Wall time: 481 µs\n"
     ]
    },
    {
     "data": {
      "text/plain": [
       "com custo de caminho 730"
      ]
     },
     "execution_count": 35,
     "metadata": {},
     "output_type": "execute_result"
    }
   ],
   "source": [
    "%time BFS(0, 19)\n",
    "%time DFS(0, 19)\n",
    "%time BCU(0, 19)"
   ]
  },
  {
   "cell_type": "markdown",
   "metadata": {},
   "source": [
    "## teste 5 Rimnicu Vilcea a Timisoara"
   ]
  },
  {
   "cell_type": "code",
   "execution_count": 36,
   "metadata": {},
   "outputs": [
    {
     "name": "stdout",
     "output_type": "stream",
     "text": [
      "CPU times: user 0 ns, sys: 0 ns, total: 0 ns\n",
      "Wall time: 113 µs\n",
      "CPU times: user 0 ns, sys: 0 ns, total: 0 ns\n",
      "Wall time: 124 µs\n",
      "CPU times: user 0 ns, sys: 0 ns, total: 0 ns\n",
      "Wall time: 448 µs\n"
     ]
    },
    {
     "data": {
      "text/plain": [
       "com custo de caminho 357"
      ]
     },
     "execution_count": 36,
     "metadata": {},
     "output_type": "execute_result"
    }
   ],
   "source": [
    "%time BFS(8, 3)\n",
    "%time DFS(8, 3)\n",
    "%time BCU(8, 3)"
   ]
  },
  {
   "cell_type": "markdown",
   "metadata": {},
   "source": [
    "## teste 6 Zerind a Neamt"
   ]
  },
  {
   "cell_type": "code",
   "execution_count": 37,
   "metadata": {},
   "outputs": [
    {
     "name": "stdout",
     "output_type": "stream",
     "text": [
      "CPU times: user 4 ms, sys: 0 ns, total: 4 ms\n",
      "Wall time: 292 µs\n",
      "CPU times: user 0 ns, sys: 0 ns, total: 0 ns\n",
      "Wall time: 157 µs\n",
      "CPU times: user 0 ns, sys: 0 ns, total: 0 ns\n",
      "Wall time: 503 µs\n"
     ]
    },
    {
     "data": {
      "text/plain": [
       "com custo de caminho 931"
      ]
     },
     "execution_count": 37,
     "metadata": {},
     "output_type": "execute_result"
    }
   ],
   "source": [
    "%time BFS(1, 15)\n",
    "%time DFS(1, 15)\n",
    "%time BCU(1, 15)"
   ]
  },
  {
   "cell_type": "markdown",
   "metadata": {},
   "source": [
    "## teste 7 Drobeta a Neamt"
   ]
  },
  {
   "cell_type": "code",
   "execution_count": 38,
   "metadata": {},
   "outputs": [
    {
     "name": "stdout",
     "output_type": "stream",
     "text": [
      "CPU times: user 0 ns, sys: 0 ns, total: 0 ns\n",
      "Wall time: 323 µs\n",
      "CPU times: user 0 ns, sys: 0 ns, total: 0 ns\n",
      "Wall time: 110 µs\n",
      "CPU times: user 0 ns, sys: 0 ns, total: 0 ns\n",
      "Wall time: 294 µs\n"
     ]
    },
    {
     "data": {
      "text/plain": [
       "com custo de caminho 765"
      ]
     },
     "execution_count": 38,
     "metadata": {},
     "output_type": "execute_result"
    }
   ],
   "source": [
    "%time BFS(6, 15)\n",
    "%time DFS(6, 15)\n",
    "%time BCU(6, 15)"
   ]
  },
  {
   "cell_type": "markdown",
   "metadata": {},
   "source": [
    "## teste 8 Pitesti a Uzirceni"
   ]
  },
  {
   "cell_type": "code",
   "execution_count": 39,
   "metadata": {},
   "outputs": [
    {
     "name": "stdout",
     "output_type": "stream",
     "text": [
      "CPU times: user 0 ns, sys: 0 ns, total: 0 ns\n",
      "Wall time: 57.5 µs\n",
      "CPU times: user 0 ns, sys: 0 ns, total: 0 ns\n",
      "Wall time: 79.2 µs\n",
      "CPU times: user 0 ns, sys: 0 ns, total: 0 ns\n",
      "Wall time: 135 µs\n"
     ]
    },
    {
     "data": {
      "text/plain": [
       "com custo de caminho 186"
      ]
     },
     "execution_count": 39,
     "metadata": {},
     "output_type": "execute_result"
    }
   ],
   "source": [
    "%time BFS(11, 14)\n",
    "%time DFS(11, 14)\n",
    "%time BCU(11, 14)"
   ]
  },
  {
   "cell_type": "markdown",
   "metadata": {},
   "source": [
    "## teste 9 Uzirceni a Pitesti"
   ]
  },
  {
   "cell_type": "code",
   "execution_count": 40,
   "metadata": {},
   "outputs": [
    {
     "name": "stdout",
     "output_type": "stream",
     "text": [
      "CPU times: user 0 ns, sys: 0 ns, total: 0 ns\n",
      "Wall time: 70.6 µs\n",
      "CPU times: user 0 ns, sys: 0 ns, total: 0 ns\n",
      "Wall time: 69.4 µs\n",
      "CPU times: user 0 ns, sys: 0 ns, total: 0 ns\n",
      "Wall time: 86.3 µs\n"
     ]
    },
    {
     "data": {
      "text/plain": [
       "com custo de caminho 186"
      ]
     },
     "execution_count": 40,
     "metadata": {},
     "output_type": "execute_result"
    }
   ],
   "source": [
    "%time BFS(14, 11)\n",
    "%time DFS(14, 11)\n",
    "%time BCU(14, 11)"
   ]
  },
  {
   "cell_type": "markdown",
   "metadata": {},
   "source": [
    "## Bucharest a Bucharest"
   ]
  },
  {
   "cell_type": "code",
   "execution_count": 41,
   "metadata": {},
   "outputs": [
    {
     "name": "stdout",
     "output_type": "stream",
     "text": [
      "CPU times: user 0 ns, sys: 0 ns, total: 0 ns\n",
      "Wall time: 11 µs\n",
      "CPU times: user 0 ns, sys: 0 ns, total: 0 ns\n",
      "Wall time: 9.54 µs\n",
      "CPU times: user 0 ns, sys: 0 ns, total: 0 ns\n",
      "Wall time: 29.6 µs\n"
     ]
    },
    {
     "data": {
      "text/plain": [
       "com custo de caminho 0"
      ]
     },
     "execution_count": 41,
     "metadata": {},
     "output_type": "execute_result"
    }
   ],
   "source": [
    "%time BFS(13, 13)\n",
    "%time DFS(13, 13)\n",
    "%time BCU(13, 13)"
   ]
  },
  {
   "cell_type": "code",
   "execution_count": null,
   "metadata": {
    "collapsed": true
   },
   "outputs": [],
   "source": []
  }
 ],
 "metadata": {
  "kernelspec": {
   "display_name": "Python 3",
   "language": "python",
   "name": "python3"
  },
  "language_info": {
   "codemirror_mode": {
    "name": "ipython",
    "version": 3
   },
   "file_extension": ".py",
   "mimetype": "text/x-python",
   "name": "python",
   "nbconvert_exporter": "python",
   "pygments_lexer": "ipython3",
   "version": "3.6.1"
  }
 },
 "nbformat": 4,
 "nbformat_minor": 2
}
