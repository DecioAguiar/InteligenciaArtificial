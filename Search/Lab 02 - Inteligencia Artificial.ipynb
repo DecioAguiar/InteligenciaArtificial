{
 "cells": [
  {
   "cell_type": "markdown",
   "metadata": {},
   "source": [
    "Inteligência Artificial - Agentes de Resoluções de Problemas"
   ]
  },
  {
   "cell_type": "code",
   "execution_count": 4,
   "metadata": {},
   "outputs": [],
   "source": [
    "class State:\n",
    "    def __init__(self, cidade):\n",
    "        self.emCidade = cidade"
   ]
  },
  {
   "cell_type": "code",
   "execution_count": 7,
   "metadata": {
    "collapsed": true
   },
   "outputs": [],
   "source": [
    "class Node:\n",
    "    def __init__(self, estado):\n",
    "        self.estado = estado\n",
    "        self.pai = None\n",
    "        self.Actions = []"
   ]
  },
  {
   "cell_type": "code",
   "execution_count": 8,
   "metadata": {
    "collapsed": true
   },
   "outputs": [],
   "source": [
    "class Action:\n",
    "    def __init__(self, para, custo):\n",
    "        self.paraCidade = para\n",
    "        self.custo = custo"
   ]
  },
  {
   "cell_type": "code",
   "execution_count": 13,
   "metadata": {},
   "outputs": [],
   "source": [
    "import pandas as pd\n",
    "Cidades = [\"Oradea\", \"Zerind\", \"Arad\", \"Timisoara\", \"Lugoj\", \"Mehadia\", \"Drobeta\", \"Sibiu\", \"RimnicuVilcea\", \"Craiova\", \"Fagaras\", \"Pitesti\", \"Giurgiu\", \"Bucharest\", \"Urziceni\", \"Neamt\", \"Iasi\", \"Vaslui\", \"Hirsova\", \"Eforie\"]\n",
    "enumCidades = pd.Series(Cidades)"
   ]
  },
  {
   "cell_type": "code",
   "execution_count": 14,
   "metadata": {},
   "outputs": [
    {
     "data": {
      "text/plain": [
       "0            Oradea\n",
       "1            Zerind\n",
       "2              Arad\n",
       "3         Timisoara\n",
       "4             Lugoj\n",
       "5           Mehadia\n",
       "6           Drobeta\n",
       "7             Sibiu\n",
       "8     RimnicuVilcea\n",
       "9           Craiova\n",
       "10          Fagaras\n",
       "11          Pitesti\n",
       "12          Giurgiu\n",
       "13        Bucharest\n",
       "14         Urziceni\n",
       "15            Neamt\n",
       "16             Iasi\n",
       "17           Vaslui\n",
       "18          Hirsova\n",
       "19           Eforie\n",
       "dtype: object"
      ]
     },
     "execution_count": 14,
     "metadata": {},
     "output_type": "execute_result"
    }
   ],
   "source": [
    "enumCidades"
   ]
  },
  {
   "cell_type": "markdown",
   "metadata": {},
   "source": [
    "Setar o grafo como uma lista de adjacência do tipo acao"
   ]
  },
  {
   "cell_type": "code",
   "execution_count": 17,
   "metadata": {},
   "outputs": [],
   "source": [
    "Grafo = []\n",
    "\n",
    "Oradea = []\n",
    "Oradea.append(Action(1, 71))\n",
    "Oradea.append(Action(7, 151))\n",
    "Grafo.append(Oradea)\n",
    "\n",
    "Zerind = []\n",
    "Zerind.append(Action(1, 71))\n",
    "Zerind.append(Action(2, 75))\n",
    "Grafo.append(Zerind)\n",
    "\n",
    "Arad = []\n",
    "Arad.append(Action(1, 75))\n",
    "Arad.append(Action(3, 118))\n",
    "Arad.append(Action(7, 140))\n",
    "Grafo.append(Arad)\n",
    "\n",
    "Timisoara = []\n",
    "Timisoara.append(Action(2, 118))\n",
    "Timisoara.append(Action(4, 111))\n",
    "Grafo.append(Timisoara)\n",
    "\n",
    "Lugoj = []\n",
    "Lugoj.append(Action(3, 111))\n",
    "Lugoj.append(Action(5, 70))\n",
    "Grafo.append(Lugoj)\n",
    "\n",
    "Mehadia = []\n",
    "Mehadia.append(Action(4, 70))\n",
    "Mehadia.append(Action(6, 75))\n",
    "Grafo.append(Mehadia)\n",
    "\n",
    "Drobeta = []\n",
    "Drobeta.append(Action(5, 75))\n",
    "Drobeta.append(Action(7, 120))\n",
    "Grafo.append(Drobeta)\n",
    "\n",
    "Sibiu = []\n",
    "Sibiu.append(Action(1, 151))\n",
    "Sibiu.append(Action(2, 140))\n",
    "Sibiu.append(Action(10, 99))\n",
    "Grafo.append(Sibiu)\n",
    "\n",
    "RimnicuVilcea = []\n",
    "RimnicuVilcea.append(Action(7, 99))\n",
    "RimnicuVilcea.append(Action(9, 146))\n",
    "RimnicuVilcea.append(Action(11, 97))\n",
    "Grafo.append(RimnicuVilcea)\n",
    "\n",
    "Craiova = []\n",
    "Craiova.append(Action(6, 120))\n",
    "Craiova.append(Action(8, 146))\n",
    "Craiova.append(Action(11, 138))\n",
    "Grafo.append(Craiova)\n",
    "\n",
    "Fagaras = []\n",
    "Fagaras.append(Action(7, 99))\n",
    "Fagaras.append(Action(13, 211))\n",
    "Grafo.append(Fagaras)"
   ]
  },
  {
   "cell_type": "code",
   "execution_count": null,
   "metadata": {
    "collapsed": true
   },
   "outputs": [],
   "source": []
  }
 ],
 "metadata": {
  "kernelspec": {
   "display_name": "Python 3",
   "language": "python",
   "name": "python3"
  },
  "language_info": {
   "codemirror_mode": {
    "name": "ipython",
    "version": 3
   },
   "file_extension": ".py",
   "mimetype": "text/x-python",
   "name": "python",
   "nbconvert_exporter": "python",
   "pygments_lexer": "ipython3",
   "version": "3.6.1"
  }
 },
 "nbformat": 4,
 "nbformat_minor": 2
}
